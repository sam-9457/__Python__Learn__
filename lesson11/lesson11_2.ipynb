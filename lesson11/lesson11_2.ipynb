{
 "cells": [
  {
   "cell_type": "code",
   "execution_count": 9,
   "id": "872aa721",
   "metadata": {},
   "outputs": [
    {
     "data": {
      "text/plain": [
       "list"
      ]
     },
     "execution_count": 9,
     "metadata": {},
     "output_type": "execute_result"
    }
   ],
   "source": [
    "fruits:list = [\"apple\", \"banana\"]\n",
    "type(fruits)"
   ]
  },
  {
   "cell_type": "code",
   "execution_count": 8,
   "id": "c973c0e4",
   "metadata": {},
   "outputs": [],
   "source": [
    "#定義class\n",
    "class Person():\n",
    "    pass"
   ]
  },
  {
   "cell_type": "code",
   "execution_count": null,
   "id": "4437ef7b",
   "metadata": {},
   "outputs": [
    {
     "name": "stdout",
     "output_type": "stream",
     "text": [
      "<class '__main__.Person'>\n",
      "<class '__main__.Person'>\n"
     ]
    }
   ],
   "source": [
    "#使用預設初始化建立person的實體\n",
    "p1 = Person()\n",
    "print(type(p1))\n",
    "\n",
    "p2 = Person()\n",
    "print(type(p2))"
   ]
  },
  {
   "cell_type": "code",
   "execution_count": 11,
   "id": "72573133",
   "metadata": {},
   "outputs": [
    {
     "name": "stdout",
     "output_type": "stream",
     "text": [
      "robert\n"
     ]
    },
    {
     "ename": "AttributeError",
     "evalue": "'Person' object has no attribute 'name'",
     "output_type": "error",
     "traceback": [
      "\u001b[31m---------------------------------------------------------------------------\u001b[39m",
      "\u001b[31mAttributeError\u001b[39m                            Traceback (most recent call last)",
      "\u001b[36mCell\u001b[39m\u001b[36m \u001b[39m\u001b[32mIn[11]\u001b[39m\u001b[32m, line 6\u001b[39m\n\u001b[32m      3\u001b[39m p1.name = \u001b[33m\"\u001b[39m\u001b[33mrobert\u001b[39m\u001b[33m\"\u001b[39m\n\u001b[32m      4\u001b[39m \u001b[38;5;28mprint\u001b[39m(p1.name)\n\u001b[32m----> \u001b[39m\u001b[32m6\u001b[39m \u001b[38;5;28mprint\u001b[39m(\u001b[43mp2\u001b[49m\u001b[43m.\u001b[49m\u001b[43mname\u001b[49m)\n",
      "\u001b[31mAttributeError\u001b[39m: 'Person' object has no attribute 'name'"
     ]
    }
   ],
   "source": [
    "#python是動態型別,可以動態產生attribute\n",
    "#一般我們不會使用動態attribute\n",
    "p1.name = \"robert\"\n",
    "print(p1.name)\n",
    "\n",
    "print(p2.name)"
   ]
  },
  {
   "cell_type": "code",
   "execution_count": 22,
   "id": "afff76fd",
   "metadata": {},
   "outputs": [],
   "source": [
    "#定義class\n",
    "#自訂__init__(self)\n",
    "#只有自訂init,才可以自訂attribute\n",
    "class Person():\n",
    "    def __init__(self,name:str): #自訂init\n",
    "        self.name = name  #建立1個attribute, #在class裏面,要建立attribtue,取出attribtue,一定要有self\n"
   ]
  },
  {
   "cell_type": "code",
   "execution_count": 23,
   "id": "d61651db",
   "metadata": {},
   "outputs": [
    {
     "name": "stdout",
     "output_type": "stream",
     "text": [
      "robert\n",
      "jenny\n"
     ]
    }
   ],
   "source": [
    "p1 = Person(\"robert\")\n",
    "print(p1.name) #在class外面,要改變或取出attribute一定要用實體名稱\n",
    "\n",
    "p2 = Person(\"jenny\")\n",
    "print(p2.name)"
   ]
  },
  {
   "cell_type": "code",
   "execution_count": 86,
   "id": "627f6767",
   "metadata": {},
   "outputs": [],
   "source": [
    "class Person():\n",
    "    count = 0\n",
    "    #classmethod\n",
    "    @classmethod\n",
    "    def commercial(cls):\n",
    "        cls.count += 1\n",
    "    #staticmethod\n",
    "    @staticmethod\n",
    "    def say_Hello():\n",
    "        print(\"Hello World!\")"
   ]
  },
  {
   "cell_type": "code",
   "execution_count": null,
   "id": "9d3d721e",
   "metadata": {},
   "outputs": [
    {
     "name": "stdout",
     "output_type": "stream",
     "text": [
      "Hello World!\n"
     ]
    }
   ],
   "source": [
    "Person.count\n",
    "Person.commercial()\n",
    "Person.count\n",
    "Person.commercial()\n",
    "Person.count"
   ]
  },
  {
   "cell_type": "code",
   "execution_count": null,
   "id": "cb9fb013",
   "metadata": {},
   "outputs": [],
   "source": [
    "Person.say_Hello()"
   ]
  }
 ],
 "metadata": {
  "kernelspec": {
   "display_name": "base",
   "language": "python",
   "name": "python3"
  },
  "language_info": {
   "codemirror_mode": {
    "name": "ipython",
    "version": 3
   },
   "file_extension": ".py",
   "mimetype": "text/x-python",
   "name": "python",
   "nbconvert_exporter": "python",
   "pygments_lexer": "ipython3",
   "version": "3.13.2"
  }
 },
 "nbformat": 4,
 "nbformat_minor": 5
}
