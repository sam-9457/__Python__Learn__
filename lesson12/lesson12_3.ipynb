{
 "cells": [
  {
   "cell_type": "code",
   "execution_count": 1,
   "id": "2e9f9894",
   "metadata": {},
   "outputs": [
    {
     "data": {
      "text/plain": [
       "Counter({2: 2, 5: 1, 3: 1})"
      ]
     },
     "execution_count": 1,
     "metadata": {},
     "output_type": "execute_result"
    }
   ],
   "source": [
    "from collections import Counter\n",
    "counter = Counter([2,2,5,3])\n",
    "counter\n",
    " "
   ]
  },
  {
   "cell_type": "code",
   "execution_count": 2,
   "id": "abc34670",
   "metadata": {},
   "outputs": [
    {
     "data": {
      "text/plain": [
       "dict_values([2, 1, 1])"
      ]
     },
     "execution_count": 2,
     "metadata": {},
     "output_type": "execute_result"
    }
   ],
   "source": [
    "counter.values()"
   ]
  },
  {
   "cell_type": "code",
   "execution_count": 5,
   "id": "afb203bc",
   "metadata": {},
   "outputs": [
    {
     "data": {
      "text/plain": [
       "False"
      ]
     },
     "execution_count": 5,
     "metadata": {},
     "output_type": "execute_result"
    }
   ],
   "source": [
    "4 in counter.values()"
   ]
  },
  {
   "cell_type": "code",
   "execution_count": 4,
   "id": "d7707fc0",
   "metadata": {},
   "outputs": [
    {
     "data": {
      "text/plain": [
       "[]"
      ]
     },
     "execution_count": 4,
     "metadata": {},
     "output_type": "execute_result"
    }
   ],
   "source": [
    "[key for key, value in counter.items() if value==4]"
   ]
  },
  {
   "cell_type": "code",
   "execution_count": 3,
   "id": "e901f0de",
   "metadata": {},
   "outputs": [
    {
     "data": {
      "text/plain": [
       "[2]"
      ]
     },
     "execution_count": 3,
     "metadata": {},
     "output_type": "execute_result"
    }
   ],
   "source": [
    "pairs = [num for num, count in counter.items() if count == 2]\n",
    "pairs"
   ]
  },
  {
   "cell_type": "code",
   "execution_count": 6,
   "id": "bb4ec2b7",
   "metadata": {},
   "outputs": [],
   "source": [
    "def calculate_score(dice):\n",
    "        \"\"\"根據PRD規則計算分數\"\"\"\n",
    "        # 統計每個點數出現的次數\n",
    "        counter = Counter(dice)\n",
    "        \n",
    "        # 檢查是否有4個相同\n",
    "        if 4 in counter.values():\n",
    "            same_number = [num for num, count in counter.items() if count == 4][0]\n",
    "            if same_number == 6:\n",
    "                return 18\n",
    "            elif same_number == 5:\n",
    "                return 17\n",
    "            elif same_number == 4:\n",
    "                return 16\n",
    "            elif same_number == 3:\n",
    "                return 15\n",
    "            elif same_number == 2:\n",
    "                return 14\n",
    "            elif same_number == 1:\n",
    "                return 13\n",
    "        \n",
    "        # 檢查是否有3個相同（不算分，需要重新擲）\n",
    "        if 3 in counter.values():\n",
    "            return None  # 需要重新擲\n",
    "        \n",
    "        # 檢查是否有2個相同\n",
    "        pairs = [num for num, count in counter.items() if count == 2]\n",
    "        \n",
    "        if len(pairs) == 2:\n",
    "            # 兩對的情況，計算比較大的分數\n",
    "            pair1_score = pairs[0] * 2\n",
    "            pair2_score = pairs[1] * 2\n",
    "            return max(pair1_score, pair2_score)\n",
    "        elif len(pairs) == 1:\n",
    "            # 一對的情況，另外兩個骰子相加\n",
    "            pair_number = pairs[0]\n",
    "            other_dice = [num for num in dice if num != pair_number]\n",
    "            return sum(other_dice)\n",
    "        else:\n",
    "            # 沒有相同，需要重新擲\n",
    "            return None"
   ]
  },
  {
   "cell_type": "code",
   "execution_count": 9,
   "id": "4a5d8173",
   "metadata": {},
   "outputs": [
    {
     "name": "stdout",
     "output_type": "stream",
     "text": [
      "10\n"
     ]
    }
   ],
   "source": [
    "print(calculate_score([2,2,5,5]))"
   ]
  }
 ],
 "metadata": {
  "kernelspec": {
   "display_name": "base",
   "language": "python",
   "name": "python3"
  },
  "language_info": {
   "codemirror_mode": {
    "name": "ipython",
    "version": 3
   },
   "file_extension": ".py",
   "mimetype": "text/x-python",
   "name": "python",
   "nbconvert_exporter": "python",
   "pygments_lexer": "ipython3",
   "version": "3.13.2"
  }
 },
 "nbformat": 4,
 "nbformat_minor": 5
}
