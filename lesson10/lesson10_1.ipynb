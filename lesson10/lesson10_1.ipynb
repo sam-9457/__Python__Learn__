{
 "cells": [
  {
   "cell_type": "code",
   "execution_count": 14,
   "id": "3065e6b0",
   "metadata": {},
   "outputs": [
    {
     "data": {
      "text/plain": [
       "{'name': 'Robert', 'play_times': 5, 'roler': 'hoster'}"
      ]
     },
     "execution_count": 14,
     "metadata": {},
     "output_type": "execute_result"
    }
   ],
   "source": [
    "#dict, 辭典物件\n",
    "player1 = { \"name\":\"Robert\",\n",
    "            \"play_times\":5,\n",
    "            \"roler\":\"hoster\"}\n",
    "player1"
   ]
  },
  {
   "cell_type": "code",
   "execution_count": 15,
   "id": "f1c22c6b",
   "metadata": {},
   "outputs": [
    {
     "data": {
      "text/plain": [
       "{'name': 'Jenny', 'play_times': 6, 'roler': 'challenger'}"
      ]
     },
     "execution_count": 15,
     "metadata": {},
     "output_type": "execute_result"
    }
   ],
   "source": [
    "player2 = {}\n",
    "player2[\"name\"] = \"Jenny\"\n",
    "player2[\"play_times\"] = 6\n",
    "player2[\"roler\"] = \"challenger\"\n",
    "\n",
    "player2\n"
   ]
  },
  {
   "cell_type": "code",
   "execution_count": 16,
   "id": "d13e6faa",
   "metadata": {},
   "outputs": [
    {
     "data": {
      "text/plain": [
       "('Robert', 'Jenny')"
      ]
     },
     "execution_count": 16,
     "metadata": {},
     "output_type": "execute_result"
    }
   ],
   "source": [
    "player1[\"name\"], player2[\"name\"]"
   ]
  },
  {
   "cell_type": "code",
   "execution_count": 17,
   "id": "5977059a",
   "metadata": {},
   "outputs": [
    {
     "data": {
      "text/plain": [
       "[{'name': 'Robert', 'play_times': 5, 'roler': 'hoster'},\n",
       " {'name': 'Jenny', 'play_times': 6, 'roler': 'challenger'}]"
      ]
     },
     "execution_count": 17,
     "metadata": {},
     "output_type": "execute_result"
    }
   ],
   "source": [
    "players = [player1, player2]\n",
    "players"
   ]
  },
  {
   "cell_type": "code",
   "execution_count": 18,
   "id": "428398a9",
   "metadata": {},
   "outputs": [
    {
     "name": "stdout",
     "output_type": "stream",
     "text": [
      "{'name': 'Robert', 'play_times': 5, 'roler': 'hoster'}\n",
      "{'name': 'Jenny', 'play_times': 6, 'roler': 'challenger'}\n"
     ]
    }
   ],
   "source": [
    "#list資料類型\n",
    "#for..in..取出所有的元素\n",
    "for player in players: #list\n",
    "    print(player)"
   ]
  },
  {
   "cell_type": "code",
   "execution_count": 19,
   "id": "d4796dbd",
   "metadata": {},
   "outputs": [
    {
     "name": "stdout",
     "output_type": "stream",
     "text": [
      "key:name\n",
      "value:Robert\n",
      "key:play_times\n",
      "value:5\n",
      "key:roler\n",
      "value:hoster\n",
      "==========\n",
      "key:name\n",
      "value:Jenny\n",
      "key:play_times\n",
      "value:6\n",
      "key:roler\n",
      "value:challenger\n"
     ]
    }
   ],
   "source": [
    "#dict資料類型\n",
    "#dict使用for...in \n",
    "\n",
    "for key in player1: #取出key\n",
    "    print(f\"key:{key}\")\n",
    "    print(f\"value:{player1[key]}\")\n",
    "\n",
    "print(\"==========\")\n",
    "\n",
    "for key in player2:\n",
    "    print(f\"key:{key}\")\n",
    "    print(f\"value:{player2.get(key)}\")"
   ]
  },
  {
   "cell_type": "code",
   "execution_count": null,
   "id": "fec87390",
   "metadata": {},
   "outputs": [],
   "source": [
    "#max()的使用\n",
    "max(3, 7, 2) \n",
    "max([3, 7, 2])\n",
    "words = ['pear', 'apple', 'banana']\n",
    "max(words, key=len)  # 回傳 'banana'\n",
    "max([], default='Empty')  # 回傳 'Empty'"
   ]
  },
  {
   "cell_type": "code",
   "execution_count": null,
   "id": "4df06a9c",
   "metadata": {},
   "outputs": [],
   "source": [
    "#max() with dict\n",
    "data = {'a': 100, 'b': 200, 'c': 50}\n",
    "max_value = max(data.values())\n",
    "print(max_value) \n",
    "\n",
    "data = {'a': 100, 'b': 200, 'c': 50}\n",
    "max_key = max(data, key=data.get)\n",
    "print(max_key)  # 輸出 'b'\n"
   ]
  },
  {
   "cell_type": "code",
   "execution_count": null,
   "id": "d6bcaf82",
   "metadata": {},
   "outputs": [
    {
     "name": "stdout",
     "output_type": "stream",
     "text": [
      "{'name': 'banana', 'weight': 0.3}\n"
     ]
    }
   ],
   "source": [
    "#max() with list of dict\n",
    "\n",
    "fruits = [\n",
    "    {'name': 'apple', 'weight': 0.5},\n",
    "    {'name': 'banana', 'weight': 0.3},\n",
    "    {'name': 'cherry', 'weight': 0.8}\n",
    "]\n",
    "\n",
    "max_fruit = max(fruits, key=lambda fruit: fruit['weight'])\n",
    "print(max_fruit)  # 輸出{'name': 'cherry', 'weight': 0.8}"
   ]
  },
  {
   "cell_type": "code",
   "execution_count": 23,
   "id": "b7c0ef5a",
   "metadata": {},
   "outputs": [
    {
     "name": "stdout",
     "output_type": "stream",
     "text": [
      "{'name': 'cherry', 'weight': 0.8}\n"
     ]
    }
   ],
   "source": [
    "#max() with list of dict\n",
    "\n",
    "fruits = [\n",
    "    {'name': 'apple', 'weight': 0.5},\n",
    "    {'name': 'banana', 'weight': 0.3},\n",
    "    {'name': 'cherry', 'weight': 0.8}\n",
    "]\n",
    "def get_weight(fruit:dict):\n",
    "    return fruit['weight']\n",
    "\n",
    "max_fruit = max(fruits, key=get_weight) #傳入function\n",
    "print(max_fruit)  # 輸出{'name': 'cherry', 'weight': 0.8}"
   ]
  }
 ],
 "metadata": {
  "kernelspec": {
   "display_name": "base",
   "language": "python",
   "name": "python3"
  },
  "language_info": {
   "codemirror_mode": {
    "name": "ipython",
    "version": 3
   },
   "file_extension": ".py",
   "mimetype": "text/x-python",
   "name": "python",
   "nbconvert_exporter": "python",
   "pygments_lexer": "ipython3",
   "version": "3.13.2"
  }
 },
 "nbformat": 4,
 "nbformat_minor": 5
}
