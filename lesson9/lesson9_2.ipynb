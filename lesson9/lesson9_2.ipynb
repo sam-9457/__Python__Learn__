{
 "cells": [
  {
   "cell_type": "code",
   "execution_count": 2,
   "id": "dfef4693",
   "metadata": {},
   "outputs": [
    {
     "data": {
      "text/plain": [
       "(200,)"
      ]
     },
     "execution_count": 2,
     "metadata": {},
     "output_type": "execute_result"
    }
   ],
   "source": [
    "#tuple\n",
    "(404, \"沒有網頁\")\n",
    "404, \"沒有網頁\"\n",
    "\n",
    "(200,)"
   ]
  },
  {
   "cell_type": "code",
   "execution_count": 3,
   "id": "fd379067",
   "metadata": {},
   "outputs": [
    {
     "data": {
      "text/plain": [
       "(200, '正常')"
      ]
     },
     "execution_count": 3,
     "metadata": {},
     "output_type": "execute_result"
    }
   ],
   "source": [
    "#tuple常見的操作模式\n",
    "code, status = 200, \"正常\"\n",
    "code, status"
   ]
  },
  {
   "cell_type": "code",
   "execution_count": null,
   "id": "0c64925a",
   "metadata": {},
   "outputs": [
    {
     "data": {
      "text/plain": [
       "[True, False, True]"
      ]
     },
     "execution_count": 8,
     "metadata": {},
     "output_type": "execute_result"
    }
   ],
   "source": [
    "#list\n",
    "empty_list = []\n",
    "numbers = [1, 2, 3, 4, 5]\n",
    "mixed_data = [1, \"Python\", 3.14, True]\n",
    "#使用list函數\n",
    "another_Empty_list = list()\n",
    "string_to_list = list(\"Python\")\n",
    "range_to_list = list(range(1,6))\n",
    "tuple_to_list = list((\"a\", \"b\", \"c\"))\n",
    "tuple_to_list"
   ]
  },
  {
   "cell_type": "code",
   "execution_count": 10,
   "id": "93451792",
   "metadata": {},
   "outputs": [
    {
     "name": "stdout",
     "output_type": "stream",
     "text": [
      "<class 'list'>\n"
     ]
    },
    {
     "data": {
      "text/plain": [
       "['apple', 'mango', 'banana', 'orange', 'grape', 'kiwi']"
      ]
     },
     "execution_count": 10,
     "metadata": {},
     "output_type": "execute_result"
    }
   ],
   "source": [
    "from typing import List,Dict,Any\n",
    "\n",
    "fruits:List = ['apple', 'banana']\n",
    "print(type(fruits))\n",
    "fruits.append('orange')\n",
    "fruits\n",
    "fruits.extend(['grape', 'kiwi'])\n",
    "fruits\n",
    "fruits.insert(1, 'mango')\n",
    "fruits"
   ]
  }
 ],
 "metadata": {
  "kernelspec": {
   "display_name": "base",
   "language": "python",
   "name": "python3"
  },
  "language_info": {
   "codemirror_mode": {
    "name": "ipython",
    "version": 3
   },
   "file_extension": ".py",
   "mimetype": "text/x-python",
   "name": "python",
   "nbconvert_exporter": "python",
   "pygments_lexer": "ipython3",
   "version": "3.13.2"
  }
 },
 "nbformat": 4,
 "nbformat_minor": 5
}
