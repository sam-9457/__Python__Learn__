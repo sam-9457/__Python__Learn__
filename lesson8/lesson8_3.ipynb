{
 "cells": [
  {
   "cell_type": "code",
   "execution_count": 4,
   "id": "56561560",
   "metadata": {},
   "outputs": [],
   "source": [
    "#沒有三數，只有傳出值的function\n",
    "def sayHello()->None:\n",
    "    print(\"Hello\")"
   ]
  },
  {
   "cell_type": "code",
   "execution_count": 5,
   "id": "c9a7364e",
   "metadata": {},
   "outputs": [
    {
     "name": "stdout",
     "output_type": "stream",
     "text": [
      "Hello\n"
     ]
    }
   ],
   "source": [
    "#產生function\n",
    "sayHello()"
   ]
  },
  {
   "cell_type": "code",
   "execution_count": 20,
   "id": "4abbf5ad",
   "metadata": {},
   "outputs": [],
   "source": [
    "def agreet(name:str)->None:\n",
    "    print(f\"Hello {name}!\")"
   ]
  },
  {
   "cell_type": "code",
   "execution_count": 21,
   "id": "c97448f6",
   "metadata": {},
   "outputs": [
    {
     "name": "stdout",
     "output_type": "stream",
     "text": [
      "Hello Gassaewd!\n"
     ]
    }
   ],
   "source": [
    "agreet(\"Gassaewd\")"
   ]
  },
  {
   "cell_type": "code",
   "execution_count": 24,
   "id": "44b7ca81",
   "metadata": {},
   "outputs": [],
   "source": [
    "def add(a:int, b:int)->int:\n",
    "    \"\"\"\n",
    "    2數相加\n",
    "\n",
    "    參數:\n",
    "        a int\n",
    "        b int\n",
    "\n",
    "    傳出值(int):\n",
    "        傳出相加的值\n",
    "    \"\"\"\n",
    "    return a + b\n"
   ]
  },
  {
   "cell_type": "code",
   "execution_count": 25,
   "id": "d563f7d9",
   "metadata": {},
   "outputs": [
    {
     "data": {
      "text/plain": [
       "120"
      ]
     },
     "execution_count": 25,
     "metadata": {},
     "output_type": "execute_result"
    }
   ],
   "source": [
    "add(15, 105)"
   ]
  }
 ],
 "metadata": {
  "kernelspec": {
   "display_name": "base",
   "language": "python",
   "name": "python3"
  },
  "language_info": {
   "codemirror_mode": {
    "name": "ipython",
    "version": 3
   },
   "file_extension": ".py",
   "mimetype": "text/x-python",
   "name": "python",
   "nbconvert_exporter": "python",
   "pygments_lexer": "ipython3",
   "version": "3.13.2"
  }
 },
 "nbformat": 4,
 "nbformat_minor": 5
}
